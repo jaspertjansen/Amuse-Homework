{
 "cells": [
  {
   "cell_type": "markdown",
   "metadata": {},
   "source": [
    "How to run a star cluster simulation\n",
    "====================\n",
    "\n",
    "More realistic star clusters have stars that move and evolve in time.\n",
    "The movement of stars is caused by their mutual gravity, which we will take care of by means of integrating the equations of motion under Newtonian forces. This is realized using, what we call, and N-body code. Stellar evolution influences the gravitational dynamics by altering the mass of the N-body particles. It is taken care of by means of a parametrized stellar evolution code.\n",
    "\n",
    "For reference you can read chapter 4 of Portegies Zwart & McMillan 2018 (2018araa.book.....P). \n",
    "\n",
    "With this tutorial you will learn\n",
    "- how to generate inital conditions (mass-function, Plummer model)\n",
    "- to initialize gravitational N-body codes and parametrized stellar evolution codes\n",
    "- channels and intra-code data transfer\n",
    "- plotting results"
   ]
  },
  {
   "cell_type": "code",
   "execution_count": null,
   "metadata": {},
   "outputs": [],
   "source": [
    "%matplotlib inline\n",
    "import numpy\n",
    "from matplotlib import pyplot\n",
    "from amuse.units import units"
   ]
  },
  {
   "cell_type": "markdown",
   "metadata": {},
   "source": [
    "Let's start by generating the initial conditions.\n",
    "This includes a mass function (for which we adopt the Salpeter power-law), and a Plummer sphere for the spatial distribution. After assigning the masses to the stars in the Plummer sphere, we scale the entire system to virial equilibrium."
   ]
  },
  {
   "cell_type": "code",
   "execution_count": null,
   "metadata": {},
   "outputs": [],
   "source": [
    "n_stars = 100\n",
    "alpha_IMF = -2.35\n",
    "\n",
    "from amuse.lab import new_powerlaw_mass_distribution\n",
    "m_stars = new_powerlaw_mass_distribution(n_stars, \n",
    "                                         10.0|units.MSun, \n",
    "                                         100.0|units.MSun, \n",
    "                                         alpha_IMF)\n",
    "\n",
    "r_cluster = 1.0 | units.parsec\n",
    "from amuse.units import nbody_system\n",
    "converter=nbody_system.nbody_to_si(m_stars.sum(), r_cluster)\n",
    "from amuse.ic.plummer import new_plummer_model\n",
    "stars=new_plummer_model(n_stars, convert_nbody=converter)\n",
    "stars.mass = m_stars\n",
    "stars.scale_to_standard(converter)"
   ]
  },
  {
   "cell_type": "markdown",
   "metadata": {},
   "source": [
    "Let's check if this is what we expected."
   ]
  },
  {
   "cell_type": "code",
   "execution_count": null,
   "metadata": {},
   "outputs": [],
   "source": [
    "def plot_snapshot(bodies):\n",
    "    v = (bodies.vx**2 + bodies.vy**2 + bodies.vz**2).sqrt()\n",
    "    s = bodies.mass.value_in(units.MSun)\n",
    "    fig, (ax1, ax2) = pyplot.subplots(1, 2, figsize=(11, 3))\n",
    "    ax1.scatter(stars.temperature.value_in(units.K),\n",
    "                stars.luminosity.value_in(units.LSun), \n",
    "                c=v.value_in(units.kms),\n",
    "                s=s)\n",
    "    ax1.set_xlim(6.e+4, 20000)\n",
    "    ax1.set_ylim(1.e+3, 1.e+7)\n",
    "    ax1.loglog()\n",
    "    ax1.set_xlabel(\"T [K]\")\n",
    "    ax1.set_ylabel(\"L [$L_\\odot$]\")\n",
    "    ax2.scatter(bodies.x.value_in(units.pc), \n",
    "                bodies.y.value_in(units.pc), \n",
    "                c=v.value_in(units.kms), \n",
    "                s=s)\n",
    "    pyplot.gca().set_aspect('equal', adjustable='box')\n",
    "    ax2.set_xlabel(\"x [pc]\")\n",
    "    ax2.set_ylabel(\"y [pc]\")\n",
    "    ax2.set_xlim(-5, 5)\n",
    "    ax2.set_ylim(-5, 5)\n",
    "    pyplot.show()\n"
   ]
  },
  {
   "cell_type": "code",
   "execution_count": null,
   "metadata": {},
   "outputs": [],
   "source": [
    "from amuse.community.ph4.interface import ph4\n",
    "from amuse.community.seba.interface import SeBa\n",
    "from amuse.ext.LagrangianRadii import LagrangianRadii\n",
    "\n",
    "stellar = SeBa()\n",
    "stellar.particles.add_particles(stars)\n",
    "\n",
    "gravity = ph4(converter)\n",
    "gravity.particles.add_particles(stars)\n",
    "ch_s2g = stellar.particles.new_channel_to(gravity.particles)\n",
    "ch_g2l = gravity.particles.new_channel_to(stars)\n",
    "ch_s2l = stellar.particles.new_channel_to(stars)\n",
    "ch_s2l.copy()\n",
    "\n",
    "plot_snapshot(stars)"
   ]
  },
  {
   "cell_type": "markdown",
   "metadata": {},
   "source": [
    "Now let's run the code. Why is the coupling timescale between gravity and stellar evolution chosen the way it is?"
   ]
  },
  {
   "cell_type": "code",
   "execution_count": null,
   "metadata": {},
   "outputs": [],
   "source": [
    "end_time = 10.0 | units.Myr\n",
    "model_time = 0 | units.Myr\n",
    "while(model_time<end_time):\n",
    "    dt = stellar.particles.time_step.min()\n",
    "    model_time += dt\n",
    "    stellar.evolve_model(model_time)\n",
    "    ch_s2g.copy()\n",
    "    ch_s2l.copy()\n",
    "    gravity.evolve_model(model_time)\n",
    "    ch_g2l.copy()\n",
    "    print(\"Evolved to t=\", stellar.model_time.in_(units.Myr), \n",
    "          gravity.model_time.in_(units.Myr),\n",
    "         \"mass=\", stars.mass.sum().in_(units.MSun), \n",
    "          \"rvir=\", stars.virial_radius().in_(units.pc))\n",
    "    \n",
    "plot_snapshot(stars)\n",
    "stellar.stop()\n",
    "gravity.stop()"
   ]
  },
  {
   "cell_type": "markdown",
   "metadata": {},
   "source": [
    "You have performed a small experiment in which a population of stars was evolved from zero-age to an age of 10 Myr.\n",
    "The stars were selected randomly from a Salpeter mass function, and distributed in a virialized Plummer sphere with a characteristic (Plummer) radius of 1 pc.\n",
    "\n",
    "Assignments and questions:\n",
    "---------------\n",
    "\n",
    "### Question 1:\n",
    "You have plotted the Hertzsprung-Russel diagram and the x-y projection of the cluster before and after the simulation. Describe the differences.\n",
    "\n",
    "### Assignment 1:\n",
    "Rerun the calculation, but store the time and the virial radius in arrays. Make a plot of the virial radius as a function of time.\n",
    "\n",
    "### Question 2:\n",
    "Why is the cluster expanding?\n",
    "\n",
    "### Question 3:\n",
    "Why does it take a while before the cluster starts expanding?\n",
    "\n",
    "### Question 4:\n",
    "The virial radius does not expand monotonously. Why is that?\n",
    "\n",
    "### Assignment 2:\n",
    "Rerun the calculation without stellar evolution and quantify the difference in which the cluster expands with and without taking stellar evolution into account. \n",
    "When rerunning, make sure that you are using the same initial random seed for generating the initial mass function as well as for assigning the stellar positions and velocities.\n",
    "\n",
    "Can you explain explain the difference between the simulation with- and the one without stellar evolution?\n",
    "\n",
    "### Question 5:\n",
    "In a previous assignment you have been checking binary formation.\n",
    "What will happen here if you would continue the run until the first binary forms?\n",
    "\n",
    "### Assignment 6:\n",
    "Add diagnostic checking for energy conservation to the code.\n",
    "Make sure to check the energy conservation for stellar evolution and stellar dynamics separately.\n",
    "\n",
    "### Question 6:\n",
    "Make a plot of the total, the potential and the kinetic energy of the N-body system as a function of time.\n",
    "\n",
    "To what degree is the total energy conserved?\n",
    "Is the amount of energy conservation sufficient to warrant a scientifically valid result, and if so, why is this the case?\n",
    "\n",
    "### Assignment 7:\n",
    "Replace the event-driven approach from the script and replace is with a simple time stepping in which you step-over from one code to the other every million years.\n",
    "\n",
    "Now check the evolution of the virial radius and the energy conservation of the code again, and discuss the difference with the original event-driven approach."
   ]
  },
  {
   "cell_type": "code",
   "execution_count": null,
   "metadata": {},
   "outputs": [],
   "source": []
  }
 ],
 "metadata": {
  "kernelspec": {
   "display_name": "Python 3",
   "language": "python",
   "name": "python3"
  },
  "language_info": {
   "codemirror_mode": {
    "name": "ipython",
    "version": 3
   },
   "file_extension": ".py",
   "mimetype": "text/x-python",
   "name": "python",
   "nbconvert_exporter": "python",
   "pygments_lexer": "ipython3",
   "version": "3.6.9"
  }
 },
 "nbformat": 4,
 "nbformat_minor": 4
}

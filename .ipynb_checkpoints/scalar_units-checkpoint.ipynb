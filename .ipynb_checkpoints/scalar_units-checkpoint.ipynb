{
 "cells": [
  {
   "cell_type": "markdown",
   "metadata": {},
   "source": [
    "AMUSE tutorial on units\n",
    "====================\n",
    "\n",
    "Here we will start up an AMUSE service in Jupyter notebook and run some example operations."
   ]
  },
  {
   "cell_type": "code",
   "execution_count": 1,
   "metadata": {},
   "outputs": [],
   "source": [
    "#Load in the amuse units module\n",
    "from amuse.units import units"
   ]
  },
  {
   "cell_type": "code",
   "execution_count": 2,
   "metadata": {},
   "outputs": [],
   "source": [
    "# Declare some variables\n",
    "mstar = 1 | units.MSun\n",
    "rstar = 1 | units.RSun"
   ]
  },
  {
   "cell_type": "code",
   "execution_count": 3,
   "metadata": {},
   "outputs": [],
   "source": [
    "# calculate surface escape speed\n",
    "# this requires the gravitational constant to be declared\n",
    "G = 6.67e-11 | units.m**3 * units.kg**-1 * units.s**-2\n",
    "vesc = (2*G*mstar/rstar).sqrt()"
   ]
  },
  {
   "cell_type": "code",
   "execution_count": 4,
   "metadata": {},
   "outputs": [
    {
     "name": "stdout",
     "output_type": "stream",
     "text": [
      "The escape speed is: 1.15498917744e-05 53476144765.21653 * m * s**-1\n"
     ]
    }
   ],
   "source": [
    "print(\"The escape speed is:\", vesc)"
   ]
  },
  {
   "cell_type": "markdown",
   "metadata": {},
   "source": [
    "This looks weard, right? But it is the right answer. AMUSE will operate on \"lazy calculating\", meaning that it will only perform the actual calculation once it is explicitely asked for it.\n",
    "Now try converting the unit to something more readable."
   ]
  },
  {
   "cell_type": "code",
   "execution_count": 5,
   "metadata": {},
   "outputs": [
    {
     "name": "stdout",
     "output_type": "stream",
     "text": [
      "The escape speed is: 617.64368455 kms\n"
     ]
    }
   ],
   "source": [
    "print(\"The escape speed is:\", vesc.in_(units.kms))"
   ]
  },
  {
   "cell_type": "markdown",
   "metadata": {},
   "source": [
    "Now you have to realize, that you used the wrong value for the gravitational constant G. The values of most important constants are stored in the AMUSE framework. They can be accessed by loading in the appropriate module."
   ]
  },
  {
   "cell_type": "code",
   "execution_count": 6,
   "metadata": {},
   "outputs": [
    {
     "name": "stdout",
     "output_type": "stream",
     "text": [
      "The escape speed is: 617.841817311 kms\n"
     ]
    }
   ],
   "source": [
    "from amuse.units.constants import G\n",
    "vesc = (2*G*mstar/rstar).sqrt()\n",
    "print(\"The escape speed is:\", vesc.in_(units.kms))"
   ]
  },
  {
   "cell_type": "markdown",
   "metadata": {},
   "source": [
    "You have now calculated the escape speed from the Solar surface.\n",
    "\n",
    "Assignments and questions:\n",
    "---------------\n",
    "\n",
    "### Assignment 1:\n",
    "Calculate the escape speed of the supermassive black hole in the Galactic center.\n",
    "\n",
    "### Assignment 2:\n",
    "Calculate the orbital velocity of the planet Earth in orbit around the Sun.\n",
    "\n",
    "### Assignment 3:\n",
    "Calculate the typical velocity at which an asteroid hits Earth's upper atmosphere.\n",
    "\n",
    "### Question 1:\n",
    "What is the range in velocities with which you expect an asteroids to hit the Earth's surface.\n",
    "\n",
    "### Question 2:\n",
    "With a photospheric effective temporature of 5772K (see [Wikipedia](https://en.wikipedia.org/wiki/Sun)), what is the Sun's luminosity?\n",
    "*note here that the Stefan-Bolzmann constant in AMUSE is available in the units.constants package under the name of Stefan_hyphen_Boltzmann_constant.*\n",
    "\n",
    "Calculate the difference with the standard in AMUSE available solar luminosity (1 | units.LSun). Why are the two values different?\n",
    "\n",
    "If the discrepancy originates from the photospheric effective temperature from Wikipedia, what would be the correct temperature to match the Solar luminosity?\n",
    "\n",
    "### Question 3:\n",
    "Use Kepler's 3th law to calculate the relative orbital velocity of planet Earth in orbit around the Sun.\n",
    "\n",
    "### Question 4:\n",
    "Apply the same calculation to the orbit of the star S2, which has an orbital period of 16.0518 yr, and eccentricity 0.88466. Calculate S2's orbital velocity at pericenter and at apocenter?\n",
    "Express it's apocenter velocity in terms of the speed of light in vacuum."
   ]
  },
  {
   "cell_type": "markdown",
   "metadata": {},
   "source": [
    "### Assignment 1"
   ]
  },
  {
   "cell_type": "code",
   "execution_count": 7,
   "metadata": {},
   "outputs": [
    {
     "name": "stdout",
     "output_type": "stream",
     "text": [
      "The escape speed of Sagittarius A is: 303157.620425 kms\n"
     ]
    }
   ],
   "source": [
    "mbh = 4.154*10**6 | units.MSun\n",
    "rbh = 12*10**6 | units.km\n",
    "\n",
    "vesc = (2*G*mbh/rbh).sqrt()\n",
    "print(\"The escape speed of Sagittarius A is:\", vesc.in_(units.kms))"
   ]
  },
  {
   "cell_type": "markdown",
   "metadata": {},
   "source": [
    "Seems reasonable as the BH 'starts' as light cannot escape anymore, around 300.000 kms"
   ]
  },
  {
   "cell_type": "markdown",
   "metadata": {},
   "source": [
    "### Assigment 2"
   ]
  },
  {
   "cell_type": "code",
   "execution_count": 8,
   "metadata": {},
   "outputs": [
    {
     "name": "stdout",
     "output_type": "stream",
     "text": [
      "The orbital speed of Earth around the sun is: 29.7882556102 kms\n"
     ]
    }
   ],
   "source": [
    "msun = 1 | units.MSun\n",
    "rearth = 1.496*10**11 | units.m\n",
    "\n",
    "vorbit = (G*msun/rearth).sqrt()\n",
    "print(\"The orbital speed of Earth around the sun is:\", vorbit.in_(units.kms))"
   ]
  },
  {
   "cell_type": "markdown",
   "metadata": {},
   "source": [
    "### Assignment 3"
   ]
  },
  {
   "cell_type": "code",
   "execution_count": 12,
   "metadata": {},
   "outputs": [
    {
     "name": "stdout",
     "output_type": "stream",
     "text": [
      "The typical speed of an astroid hitting the upper atmosphere of earth: 10.6939109924 kms\n"
     ]
    }
   ],
   "source": [
    "mearth = 1 | units.MEarth\n",
    "rearth_and_space = (1 | units.REarth) + (600 | units.km)\n",
    "\n",
    "vas = (2*G*mearth/rearth_and_space).sqrt()\n",
    "print(\"The typical speed of an astroid hitting the upper atmosphere of earth:\", vas.in_(units.kms))"
   ]
  },
  {
   "cell_type": "markdown",
   "metadata": {},
   "source": [
    "### Question 1"
   ]
  },
  {
   "cell_type": "code",
   "execution_count": 21,
   "metadata": {},
   "outputs": [
    {
     "name": "stdout",
     "output_type": "stream",
     "text": [
      "The minimal speed of an astroid hitting earth is the escape velocity of earth: 11.1861407118 kms\n"
     ]
    }
   ],
   "source": [
    "mearth = 1 | units.MEarth\n",
    "rearth = 1 | units.REarth\n",
    "\n",
    "vmin = (2*G*mearth/rearth).sqrt()\n",
    "print(\"The minimal speed of an astroid hitting earth is the escape velocity of earth:\", vmin.in_(units.kms))"
   ]
  },
  {
   "cell_type": "code",
   "execution_count": 22,
   "metadata": {},
   "outputs": [
    {
     "name": "stdout",
     "output_type": "stream",
     "text": [
      "The maximal speed of an astroid hitting earth is twice the orbital velocity of earth (retrograde): 59.5765112204 kms\n"
     ]
    }
   ],
   "source": [
    "vmax = 2 * vorbit\n",
    "print(\"The maximal speed of an astroid hitting earth is twice the orbital velocity of earth (retrograde):\", vmax.in_(units.kms))"
   ]
  },
  {
   "cell_type": "markdown",
   "metadata": {},
   "source": [
    "### Question 2"
   ]
  },
  {
   "cell_type": "code",
   "execution_count": 33,
   "metadata": {},
   "outputs": [
    {
     "name": "stdout",
     "output_type": "stream",
     "text": [
      "The luminosity of the sun is: 0.9965635674684904 LSun\n"
     ]
    }
   ],
   "source": [
    "from amuse.units.constants import pi, Stefan_hyphen_Boltzmann_constant\n",
    "\n",
    "rsun = 1 | units.RSun\n",
    "Tsun = 5772 | units.K\n",
    "\n",
    "Lsun = (4*pi*rsun**2*Stefan_hyphen_Boltzmann_constant*Tsun**4)\n",
    "print(\"The luminosity of the sun is:\", Lsun.in_(units.LSun))"
   ]
  },
  {
   "cell_type": "code",
   "execution_count": 39,
   "metadata": {},
   "outputs": [
    {
     "name": "stdout",
     "output_type": "stream",
     "text": [
      "The luminosity difference is 0.0034364325315096034 LSun\n"
     ]
    }
   ],
   "source": [
    "LsunAmuse = 1 | units.LSun\n",
    "\n",
    "diff = LsunAmuse - Lsun\n",
    "\n",
    "print(\"The luminosity difference is\", diff.in_(units.LSun))"
   ]
  },
  {
   "cell_type": "markdown",
   "metadata": {},
   "source": [
    "The solar luminosity used by Amuse is bigger, it assumes a higher effective temperature for the sun than the one given"
   ]
  },
  {
   "cell_type": "code",
   "execution_count": 42,
   "metadata": {},
   "outputs": [
    {
     "name": "stdout",
     "output_type": "stream",
     "text": [
      "The real effective temperature is 5776.969449972814 K\n"
     ]
    }
   ],
   "source": [
    "Treal = (LsunAmuse/(4*pi*rsun**2*Stefan_hyphen_Boltzmann_constant))**(1/4)\n",
    "\n",
    "print(\"The real effective temperature is\", Treal.in_(units.K))"
   ]
  },
  {
   "cell_type": "markdown",
   "metadata": {},
   "source": [
    "### Question 3"
   ]
  },
  {
   "cell_type": "code",
   "execution_count": 49,
   "metadata": {},
   "outputs": [
    {
     "name": "stdout",
     "output_type": "stream",
     "text": [
      "The relative orbital period of Earth around the sun is: 0.999911986235 yr\n",
      "The relative orbital speed of Earth around the sun is: 29.7885123292 kms\n"
     ]
    }
   ],
   "source": [
    "msun = 1 | units.MSun\n",
    "mearth = 1 | units.MEarth\n",
    "aearth = 1 | units.AU\n",
    "\n",
    "Trelorbit = ((4*pi**2*aearth**3)/(G*(msun+mearth))).sqrt()\n",
    "print(\"The relative orbital period of Earth around the sun is:\", Trelorbit.in_(units.yr))\n",
    "\n",
    "vrelorbit = 2*pi*aearth/Trelorbit\n",
    "print(\"The relative orbital speed of Earth around the sun is:\", vrelorbit.in_(units.kms))"
   ]
  },
  {
   "cell_type": "markdown",
   "metadata": {},
   "source": [
    "### Question 4"
   ]
  },
  {
   "cell_type": "code",
   "execution_count": 57,
   "metadata": {},
   "outputs": [
    {
     "name": "stdout",
     "output_type": "stream",
     "text": [
      "The relative orbital speed in the aphelion of S2 around the BH is: 0.024269700307082236 c\n",
      "The relative orbital speed in the perihelion of S2 around the BH is: 445.27883252443485 kms\n"
     ]
    }
   ],
   "source": [
    "from amuse.units.constants import c\n",
    "\n",
    "TS2 = 16.0518 | units.yr\n",
    "eS2 = 0.88466\n",
    "aS2 = 970 | units.AU\n",
    "\n",
    "vapp = (2*pi*aS2/TS2)*((1+eS2)/(1-eS2))**(1/2)\n",
    "vperi = (2*pi*aS2/TS2)*((1-eS2)/(1+eS2))**(1/2)\n",
    "\n",
    "print(\"The relative orbital speed in the aphelion of S2 around the BH is:\", vapp.in_(units.kms)/c, \"c\")\n",
    "print(\"The relative orbital speed in the perihelion of S2 around the BH is:\", vperi.in_(units.kms))"
   ]
  },
  {
   "cell_type": "code",
   "execution_count": null,
   "metadata": {},
   "outputs": [],
   "source": []
  }
 ],
 "metadata": {
  "kernelspec": {
   "display_name": "Python 3 (ipykernel)",
   "language": "python",
   "name": "python3"
  },
  "language_info": {
   "codemirror_mode": {
    "name": "ipython",
    "version": 3
   },
   "file_extension": ".py",
   "mimetype": "text/x-python",
   "name": "python",
   "nbconvert_exporter": "python",
   "pygments_lexer": "ipython3",
   "version": "3.10.12"
  }
 },
 "nbformat": 4,
 "nbformat_minor": 4
}

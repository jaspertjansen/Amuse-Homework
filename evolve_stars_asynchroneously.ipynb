{
 "cells": [
  {
   "cell_type": "markdown",
   "metadata": {},
   "source": [
    "How to evolved stars a-synchroneously.\n",
    "=================================\n",
    "\n",
    "We will run the SeBa stellar evolution code assuming that stellar ages changes non-canonically, or new stars are added later."
   ]
  },
  {
   "cell_type": "code",
   "execution_count": 1,
   "metadata": {},
   "outputs": [
    {
     "name": "stdout",
     "output_type": "stream",
     "text": [
      "mass= [1.0, 1.2] MSun radius= [0.889898624446, 1.14570179853] RSun age= [100.0, 100.0] Myr\n"
     ]
    }
   ],
   "source": [
    "#just a helper function to print stellar parameters.\n",
    "from amuse.lab import *\n",
    "def print_stars(stars):\n",
    "    print(\"mass=\", stars.mass.in_(units.MSun),\n",
    "         \"radius=\", stars.radius.in_(units.RSun),\n",
    "         \"age=\", stars.age.in_(units.Myr))\n",
    "   \n",
    "#setup SeBa in AMUSE as usual by generating particles and\n",
    "# add them to the instantiation of the stellar evolution code.\n",
    "stars = Particles(mass=[1, 1.2] | units.MSun)\n",
    "stellar = SeBa()\n",
    "stellar.particles.add_particles(stars)\n",
    "ch_2stars = stellar.particles.new_channel_to(stars)\n",
    "ch_2code = stars.new_channel_to(stellar.particles)\n",
    "\n",
    "time = 100 | units.Myr\n",
    "stellar.evolve_model(time)\n",
    "ch_2stars.copy()\n",
    "print_stars(stars)"
   ]
  },
  {
   "cell_type": "code",
   "execution_count": 2,
   "metadata": {},
   "outputs": [
    {
     "name": "stdout",
     "output_type": "stream",
     "text": [
      "mass= [1.0, 1.2] MSun radius= [0.889931646177, 1.14580766341] RSun age= [102.0, 102.0] Myr\n"
     ]
    }
   ],
   "source": [
    "time += 2|units.Myr\n",
    "stellar.evolve_model(time)\n",
    "ch_2stars.copy()\n",
    "print_stars(stars)"
   ]
  },
  {
   "cell_type": "code",
   "execution_count": 3,
   "metadata": {},
   "outputs": [
    {
     "name": "stdout",
     "output_type": "stream",
     "text": [
      "mass= [1.0, 1.2, 5.0] MSun radius= [0.889931646177, 1.14580766341, 2.63559305915] RSun age= [102.0, 102.0, 0.0] Myr\n",
      "mass= [1.0, 1.2, 5.0] MSun radius= [0.890096779646, 1.14633716129, 2.76120424406] RSun age= [112.0, 112.0, 10.0] Myr\n"
     ]
    }
   ],
   "source": [
    "#Now we add a 5MSun star and evolve to 110Myr\n",
    "time += 10 | units.Myr\n",
    "stellar.particles.add_particles(Particles(mass=[5]|units.MSun))\n",
    "stellar.particles.synchronize_to(stars)\n",
    "print_stars(stars)\n",
    "stellar.evolve_model(time)\n",
    "ch_2stars.copy()\n",
    "stellar.stop() # stop the code\n",
    "print_stars(stars) # print final mass, radius and age"
   ]
  },
  {
   "cell_type": "markdown",
   "metadata": {},
   "source": [
    "### There is a second way to evolve stars asynchroneously\n",
    "This way give you more control, but it is slightly more elaborate."
   ]
  },
  {
   "cell_type": "code",
   "execution_count": 4,
   "metadata": {},
   "outputs": [],
   "source": [
    "stars = Particles(mass = [10, 7, 1]|units.MSun)\n",
    "stellar = SeBa()\n",
    "stellar.particles.add_particle(stars)\n",
    "ch_2star = stellar.particles.new_channel_to(stars)\n",
    "# and evolve the stars for a short while\n",
    "#stellar.evolve_model(3|units.Myr)\n",
    "#ch_2star.copy()\n",
    "#print_stars(stars)"
   ]
  },
  {
   "cell_type": "code",
   "execution_count": 5,
   "metadata": {},
   "outputs": [
    {
     "name": "stdout",
     "output_type": "stream",
     "text": [
      "mass= [9.99974673885, 7.0, 1.0] MSun radius= [4.02297705402, 3.29451868059, 0.888414213215] RSun age= [1.0, 3.0, 10.0] Myr\n"
     ]
    }
   ],
   "source": [
    "ages = [1, 3, 10] | units.Myr\n",
    "for si, age in zip(stellar.particles, ages):\n",
    "    si.evolve_for(age)\n",
    "ch_2star.copy()\n",
    "print_stars(stars)"
   ]
  },
  {
   "cell_type": "code",
   "execution_count": 6,
   "metadata": {},
   "outputs": [
    {
     "name": "stdout",
     "output_type": "stream",
     "text": [
      "mass= [9.9958003582, 7.0, 1.0] MSun radius= [5.22757224033, 3.61775861177, 0.888447169555] RSun age= [12.0, 12.0, 12.0] Myr\n"
     ]
    }
   ],
   "source": [
    "# and synchronize the population to a single age\n",
    "stellar.evolve_model(12|units.Myr)\n",
    "ch_2star.copy()\n",
    "print_stars(stars)"
   ]
  },
  {
   "cell_type": "code",
   "execution_count": null,
   "metadata": {},
   "outputs": [],
   "source": []
  }
 ],
 "metadata": {
  "kernelspec": {
   "display_name": "Python 3",
   "language": "python",
   "name": "python3"
  },
  "language_info": {
   "codemirror_mode": {
    "name": "ipython",
    "version": 3
   },
   "file_extension": ".py",
   "mimetype": "text/x-python",
   "name": "python",
   "nbconvert_exporter": "python",
   "pygments_lexer": "ipython3",
   "version": "3.7.6"
  }
 },
 "nbformat": 4,
 "nbformat_minor": 4
}
